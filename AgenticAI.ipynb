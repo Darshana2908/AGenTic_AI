{
 "cells": [
  {
   "cell_type": "markdown",
   "id": "afae9452-a1a7-436e-b842-9924858da570",
   "metadata": {},
   "source": [
    "## Large Language Models:\n",
    "\n",
    "##### A Large Language Model (LLM) is a type of AI that excels at understanding, processing, and generating human language. \n",
    "\n",
    "##### LLMs are trained on massive datasets of text and code, allowing them to learn patterns and relationships within language. \n",
    "\n",
    "##### They can be used for various tasks like translating languages, summarizing text, and generating creative content. Examples include GPTs."
   ]
  },
  {
   "cell_type": "markdown",
   "id": "0538b5c5-d93a-4918-8e00-10b2b059a026",
   "metadata": {},
   "source": [
    "## Agent:\n",
    "\n",
    "##### Advances in reasoning, multimodality, and tool use have unlocked a new category of LLM-powered systems known as \"Agents\".\n",
    "\n",
    "##### While conventional software enables users to streamline and automate workflows, An agent is a software entity that interact with its environment and perform actions on behalf of another, often to complete specific tasks or achieve goals independently - meaning they can make decisions and take actions without continuous human intervention."
   ]
  },
  {
   "cell_type": "markdown",
   "id": "3f46f3ed-9bc5-456f-9701-608a9fb40fa2",
   "metadata": {},
   "source": [
    "## AI Agents:\n",
    "\n",
    "##### This term broadly refers to any software agent that incorporates AI techniques, including reasoning, planning, learning, and problem-solving. "
   ]
  },
  {
   "cell_type": "markdown",
   "id": "9498b814-37d3-4f1c-b247-9e9e4db1c5a2",
   "metadata": {},
   "source": [
    "## LLM Agent:\n",
    "\n",
    "##### An LLM Agent is a type of AI agent that leverages a Large Language Model (LLM) for its reasoning, decision-making, and interaction with the environment. \n",
    "\n",
    "##### LLMs provide the agent with the ability to understand natural language, generate text, and interact with other tools. "
   ]
  },
  {
   "cell_type": "markdown",
   "id": "8ad3c16b-9c68-4c32-8880-9744e881f18b",
   "metadata": {},
   "source": [
    "## Agentic AI:\n",
    "\n",
    "##### Agentic AI is a framework that enables AI agents to act autonomously, exhibit advanced capabilities like autonomous planning, adaptation, learning and make decisions based on context and goals (i.e goal-directed behavior).\n",
    "\n",
    "##### It's not a single technology, but rather a way to build and structure AI systems that are more capable of independent action.\n",
    "\n",
    "##### LLMs (Large Language Models) are powerful neural networks that can generate text and are often used as the core component of AI agents.\n",
    "\n",
    "##### Agentic AI leverages LLMs to enhance the decision-making and reasoning abilities of AI agents."
   ]
  },
  {
   "cell_type": "markdown",
   "id": "c47847ef-5f45-40a6-a10d-740c15bc6e85",
   "metadata": {},
   "source": [
    "## Workflows:\n",
    "\n",
    "##### Workflows, in the context of AI, are not just part of one specific type (LLM, Agent, etc.), but are a fundamental component of how AI systems, including LLMs, AI agents, and agentic AI, operate and execute tasks.\n",
    "\n",
    "##### A workflow is a sequence of steps that must be executed to meet the user’s goal, whether that's resolving a customer service issue, booking a restaurant reservation, committing a code change, posting on linkedIn / Instagram or generating a report.\n",
    "\n",
    "##### Workflows can exist independently of specific AI technologies like LLMs or agents, representing a structured sequence of actions. However, they often incorporate AI technologies to enhance their capabilities."
   ]
  },
  {
   "cell_type": "markdown",
   "id": "d017a537-dcc1-4f90-ad61-1bfa8707397a",
   "metadata": {},
   "source": [
    "## Examples with tools and usecase in QF:"
   ]
  },
  {
   "cell_type": "raw",
   "id": "e1f1e7b5-17d6-433f-9591-280fde211abc",
   "metadata": {},
   "source": [
    "| Concept    | Example Tools Used                        | Quant Finance Use Example                                         |\n",
    "| ---------- | ----------------------------------------- | ----------------------------------------------------------------- |\n",
    "| LLM        | ChatGPT, Claude, Mistral                  | Extracting insights from filings or summarizing market news       |\n",
    "| Agent      | ReAct, LangChain, Broker APIs             | Smart execution or market-making agent                            |\n",
    "| AI Agent   | FinRL, Hugging Face RL agents             | Learning to manage portfolios or predict volatility               |\n",
    "| LLM Agent  | LangChain, CrewAI, AutoGen                | Generating, testing, and reporting new trading strategies         |\n",
    "| Agentic AI | AutoGen, MetaGPT, LangGraph               | Autonomous quant research or trading automation                   |\n",
    "| Workflows  | LangGraph, Airflow, Zapier, ChatGPT tools | Weekly risk reporting, earnings dashboards, portfolio rebalancing |"
   ]
  },
  {
   "cell_type": "markdown",
   "id": "4f497fa5-24cc-4512-85ac-342124f7aa7c",
   "metadata": {},
   "source": [
    "## Summary:\n",
    "\n",
    "##### Agentic AI is a framework that empowers AI Agents or LLM agents to take the capabilities of LLMs and build on them by adding features like memory, planning, and the ability to interact with external tools. \n",
    "##### They are essentially intelligent systems designed to achieve goals through a series of actions (workflows), often involving reasoning and decision-making."
   ]
  },
  {
   "cell_type": "markdown",
   "id": "113413b9-4d97-4703-bd79-42f62a265ff2",
   "metadata": {},
   "source": [
    "## What are NOT Agents?\n",
    "\n",
    "##### Applications that integrate LLMs but don’t use them to control workflow execution—think simple chatbots, single-turn LLMs, or sentiment classifiers—are not agents\n",
    "\n",
    "##### Simple Comparison\n",
    "##### Non-agentic: I say, “Write a report,” and the AI outputs it immediately.\n",
    "##### Agentic: The AI outlines the report, researches relevant sources, revises drafts, and improves the final work, with internal feedback loops."
   ]
  },
  {
   "cell_type": "markdown",
   "id": "3918cb9a-3798-4f4b-acdf-c058267634be",
   "metadata": {},
   "source": [
    "## When to Build an Agent?\n",
    "\n",
    "##### Unlike conventional automation, agents are uniquely suited to workflows where traditional deterministic and rule-based approaches fall short. So,  prioritize workflows that have previously resisted automation, especially where traditional methods encounter friction.\n",
    "\n",
    "##### Consider the example of payment fraud analysis. \n",
    "##### A traditional rules engine works like a checklist, flagging transactions based on preset criteria. \n",
    "##### In contrast, an LLM agent functions more like a seasoned investigator, evaluating context, considering subtle patterns, and identifying suspicious activity even when clear-cut rules aren’t violated. \n",
    "##### This nuanced reasoning capability is exactly what enables agents to manage complex, ambiguous situations effectively.\n",
    "\n",
    "## Criteria for Building an Agent:\n",
    "\n",
    "##### 01 Complex decision-making: Workflows involving nuanced judgment, exceptions, or context-sensitive decisions, for example refund approval in customer service workflows.\n",
    "\n",
    "##### 02 Difficult-to-maintain rules: Systems that have become unwieldy due to extensive and intricate rulesets, making updates costly or error-prone, for example performing vendor security reviews. \n",
    "\n",
    "##### 03 Heavy reliance on unstructured data: Scenarios that involve interpreting natural language, extracting meaning from documents, or interacting with users conversationally, for example processing a home insurance claim. "
   ]
  },
  {
   "cell_type": "markdown",
   "id": "9003367b-dde8-44f2-b81a-f2a4756e38a4",
   "metadata": {},
   "source": [
    "## AI Agent Design Foundation (Components of AI Agent)\n",
    "\n",
    "##### 01 Model: The LLM powering the agent’s reasoning and decision-making\n",
    "##### 02 Tools: External functions or APIs the agent can use to take action\n",
    "##### 03 Instructions: Explicit guidelines and guardrails defining how the agent behaves"
   ]
  },
  {
   "cell_type": "raw",
   "id": "c805fb4f-2bdd-4ee7-865d-186ae132ceb4",
   "metadata": {},
   "source": [
    "## Architecture of AI Agent \n",
    "\n",
    "** Remember : AI agents involve workflows where the AI plans, revises, uses tools, and reasons — sometimes with little or no human prompting at each step.\n",
    "\n",
    "+------------------+\n",
    "|   Input/Trigger  | ← User prompt, scheduled task, system event\n",
    "+------------------+\n",
    "         |\n",
    "         v\n",
    "+------------------+     +--------------------+\n",
    "|  Perception Unit | --> |  Memory / Context  |\n",
    "| (LLM, parsers)   |     +--------------------+\n",
    "+------------------+               |\n",
    "         |                        ↓\n",
    "         v               +----------------------+\n",
    "+------------------+     |  Planning & Reasoning|\n",
    "| Task Manager /   |<--->|  (LLM, Rules, Tools) |\n",
    "| Orchestrator     |     +----------------------+\n",
    "+------------------+               |\n",
    "         |                        ↓\n",
    "         v               +----------------------+\n",
    "+------------------+     |   Action Executor    |\n",
    "| Tool Interfaces  |<--->| (APIs, Code, Agents) |\n",
    "+------------------+     +----------------------+\n",
    "         |\n",
    "         v\n",
    "+------------------+\n",
    "|  Output / Report |\n",
    "+------------------+"
   ]
  },
  {
   "cell_type": "raw",
   "id": "846931b6-b4ff-429b-bf62-8da5d24cd490",
   "metadata": {},
   "source": [
    "## Architecture of Agentic AI\n",
    "** Remember - Agentic AI is a framework that enables AI agents to act autonomously, exhibit advanced capabilities and has goal directed behavior.\n",
    "\n",
    "+---------------------------------------------------+\n",
    "|                 User / Environment                |\n",
    "+---------------------------------------------------+\n",
    "                        |\n",
    "                        v\n",
    "+---------------------------------------------------+\n",
    "|           Input Understanding / Intent Parsing    |\n",
    "|        (LLM Prompt Parsing, Natural Language UI)  |\n",
    "+---------------------------------------------------+\n",
    "                        |\n",
    "                        v\n",
    "+---------------------------------------------------+\n",
    "|               Goal Manager / Task Planner         |\n",
    "|     - Interprets long-term goals and breaks       |\n",
    "|       them into subgoals and actions              |\n",
    "|     - Uses planning algorithms or LLM reasoning   |\n",
    "+---------------------------------------------------+\n",
    "                        |\n",
    "                        v\n",
    "+---------------------------------------------------+\n",
    "|               Memory & Knowledge Base             |\n",
    "|     - Long-term memory (goals, results, context)  |\n",
    "|     - Short-term memory (session state)           |\n",
    "|     - Vector DB, SQL DB, File Systems             |\n",
    "+---------------------------------------------------+\n",
    "                        |\n",
    "                        v\n",
    "+---------------------------------------------------+\n",
    "|           Multi-Agent Collaboration Layer         |\n",
    "|     - Coordinator agent manages specialist agents |\n",
    "|     - Agents with roles: coder, researcher, exec. |\n",
    "|     - Messaging, turn-taking, protocols           |\n",
    "+---------------------------------------------------+\n",
    "                        |\n",
    "                        v\n",
    "+---------------------------------------------------+\n",
    "|           Tool and API Integration Layer          |\n",
    "|     - Execution of real-world actions             |\n",
    "|     - Python, SQL, Trading APIs, File I/O         |\n",
    "|     - Code execution, charts, model training      |\n",
    "+---------------------------------------------------+\n",
    "                        |\n",
    "                        v\n",
    "+---------------------------------------------------+\n",
    "|             Evaluation & Reflection Layer         |\n",
    "|     - Self-checking, retrying, critic agents      |\n",
    "|     - Compare outcomes to goals                   |\n",
    "+---------------------------------------------------+\n",
    "                        |\n",
    "                        v\n",
    "+---------------------------------------------------+\n",
    "|                Output / Report Generator          |\n",
    "|     - Text summary, charts, dashboards, files     |\n",
    "|     - Delivery via UI, API, email, etc.           |\n",
    "+---------------------------------------------------+"
   ]
  },
  {
   "cell_type": "code",
   "execution_count": null,
   "id": "c185fa38-5a99-425c-bbda-57f6d69658ce",
   "metadata": {},
   "outputs": [],
   "source": []
  }
 ],
 "metadata": {
  "kernelspec": {
   "display_name": "Python 3 (ipykernel)",
   "language": "python",
   "name": "python3"
  },
  "language_info": {
   "codemirror_mode": {
    "name": "ipython",
    "version": 3
   },
   "file_extension": ".py",
   "mimetype": "text/x-python",
   "name": "python",
   "nbconvert_exporter": "python",
   "pygments_lexer": "ipython3",
   "version": "3.12.7"
  }
 },
 "nbformat": 4,
 "nbformat_minor": 5
}
