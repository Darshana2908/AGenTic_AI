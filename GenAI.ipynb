{
 "cells": [
  {
   "cell_type": "markdown",
   "id": "6e5a12a8-0e5d-4028-8fdb-017b1f3c4ff3",
   "metadata": {},
   "source": [
    "## What is AI"
   ]
  },
  {
   "cell_type": "markdown",
   "id": "86839a64-4d00-4cd6-9222-a4d7f6d409fd",
   "metadata": {},
   "source": [
    "##### Artificial intelligence is a field of science concerned with building computers and machines that can reason, learn, and act in such a way that would normally require human intelligence or that involves data whose scale exceeds what humans can analyze. \n",
    "\n",
    "##### AI is a broad field that encompasses many different disciplines, including computer science, data analytics and statistics, hardware and software engineering, linguistics, neuroscience, and even philosophy and psychology. \n",
    "\n",
    "##### On an operational level for business use, AI is a set of technologies that are based primarily on machine learning and deep learning, used for data analytics, predictions and forecasting, object categorization, natural language processing, recommendations, intelligent data retrieval, and more.\n",
    "\n",
    "##### (Src: https://cloud.google.com/learn/what-is-artificial-intelligence)"
   ]
  },
  {
   "cell_type": "markdown",
   "id": "608e5cf9-66c0-487c-9342-b6d408b8cd4f",
   "metadata": {},
   "source": [
    "## Types of artificial intelligence\n",
    "##### While Artificial intelligence can be organized in several ways, depending on stages of development or actions being performed. It can broadly be categorized as :\n",
    "\n",
    "### Predictive AI\n",
    "##### Predictive AI is where the machine learning system uses historical data and analyses patterns and all of their connections to make predictions about future results.\n",
    "\n",
    "##### For example, companies can use this system to analyse the purchasing patterns of different demographic groups of users. With this information, they can find out what types of customers are more likely to buy a certain product. This type of technology can also be used to correctly classify information on language or images\n",
    "\n",
    "### Generative AI\n",
    "##### Generative AI is a group of group of systems that are used to create new data. \n",
    "##### Generative AI tools can be used, for example, to create new images, text or music. \n",
    "##### Generative models, after seeing and analysing a large number of examples i.e trained on large volumes of existing data, can use that information to generate something completely new. \n",
    "##### That is why they are called “generative”.\n",
    "\n",
    "##### For example: Gemini can help you draft email, provided you precisely describe what you want it to show you."
   ]
  },
  {
   "cell_type": "markdown",
   "id": "9e3c7f91-e8f4-4ae6-aaf1-25d1979da668",
   "metadata": {},
   "source": [
    "## The Inner Workings of Generative AI\n",
    "#### Simply Put - GenAI uses neural networks to learn patterns from vast datasets and generate new content.\n",
    "\n",
    "\n",
    "#### Here's a more detailed look at how they work:\n",
    "#### 1. Training with Vast Datasets:\n",
    "##### Generative AI models are trained on massive amounts of data, often unlabeled or semi-supervised.\n",
    "##### This training process allows them to learn the underlying structures and patterns within the data.\n",
    "##### Examples of foundation models, like GPT-3 and Stable Diffusion, are trained on enormous text and image datasets, respectively. \n",
    "\n",
    "#### 2. Neural Networks and Deep Learning:\n",
    "##### These models rely on sophisticated neural networks, which are computational models inspired by the human brain. \n",
    "##### Deep learning algorithms within these networks identify and encode the patterns and relationships in the training data. \n",
    "##### They use different learning approaches, like unsupervised or semi-supervised learning, to train the models. \n",
    "\n",
    "#### 3. Foundation Models and LLMs:\n",
    "##### Foundation models, like those behind ChatGPT, are general-purpose AI systems that can perform various tasks.\n",
    "##### Large Language Models (LLMs), like GPT, are a type of foundation model specifically focused on language-based tasks like summarization, text generation, and conversation. \n",
    "\n",
    "#### 4. Generating New Content:\n",
    "##### Once trained, these models can generate new content based on a prompt or input.\n",
    "##### For example, a text-based model might generate a new essay based on a short text request.\n",
    "##### An image generation model could create a photorealistic image based on a text input. \n",
    "\n",
    "#### 5. Probability Distributions and Inference:\n",
    "##### Generative models learn to predict the next item in a sequence, whether it's the next word in a sentence or the next pixel in an image. \n",
    "##### They use probability distributions to select the next element based on the learned patterns and relationships. \n",
    "##### A process called \"inference\" refines the output to match the desired result, ensuring it becomes more accurate and realistic. \n",
    "\n",
    "#### 6. Generative Adversarial Networks (GANs) and Other Models:\n",
    "##### GANs are a specific type of generative model that uses two networks: a generator and a discriminator. \n",
    "##### The generator attempts to create realistic data, while the discriminator tries to distinguish between real and generated data. \n",
    "##### Other generative models, like Variational AutoEncoders (VAEs) and transformers, are also used in various generative AI applications. \n",
    "\n",
    "#### 7. Examples of Generative AI in Action:\n",
    "##### Image Generation: Models like Stable Diffusion create photorealistic images from text prompts. \n",
    "##### Text Generation: Models like ChatGPT can generate essays, stories, and code based on user input. \n",
    "##### Audio Generation: Models can create music, sound effects, and even human speech. \n",
    "##### Video Generation: Models can generate new videos or edit existing ones. "
   ]
  },
  {
   "cell_type": "markdown",
   "id": "517ce683-0b5d-4c01-a2ec-f52347570980",
   "metadata": {},
   "source": [
    "## Architecture of Gen AI\n",
    "\n",
    "#### 1. User Input / Prompt\n",
    "##### The user provides a natural language prompt, which could be a question, instruction, or partial content (e.g., “Generate a stock analysis report”).\n",
    "\n",
    "##### Input can also include context: documents, images, or structured data.\n",
    "\n",
    "#### 2. Prompt Processing / Tokenization\n",
    "##### The input text is tokenized—converted into a sequence of numerical tokens (words/subwords).\n",
    "\n",
    "##### Example:\n",
    "##### \"Generate text\" → [1357, 2021, 98]\n",
    "\n",
    "##### A tokenizer (like Byte-Pair Encoding) breaks down the text to units the model understands.\n",
    "\n",
    "#### 3. Model Inference (Core GenAI Model)\n",
    "##### The tokenized input is fed into a transformer-based model (e.g., GPT-4, Claude, Gemini).\n",
    "\n",
    "##### Internally, the model:\n",
    "\n",
    "###### a. Uses self-attention mechanisms to understand relationships between tokens.\n",
    "\n",
    "###### b. Predicts the next token, one step at a time, using learned probabilities.\n",
    "\n",
    "##### Output: A sequence of predicted tokens (words) forming a coherent response.\n",
    "\n",
    "#### 4. Decoding and Generation\n",
    "##### The model generates text through a decoding strategy:\n",
    "\n",
    "###### a. Greedy decoding: Picks the highest probability token.\n",
    "\n",
    "###### b. Beam search: Explores multiple likely paths.\n",
    "\n",
    "###### c. Top-k / Top-p sampling: Adds randomness for more creative outputs.\n",
    "\n",
    "##### Tokens are then detokenized into human-readable text.\n",
    "\n",
    "#### 5. Post-Processing / Tool Use (Optional)\n",
    "##### The agent or framework might:\n",
    "\n",
    "###### a. Invoke external tools (e.g., calculators, APIs).\n",
    "\n",
    "###### b. Use retrieval-augmented generation (RAG) to pull relevant data from external sources.\n",
    "\n",
    "###### c. Call function APIs (like fetching stock prices or running SQL queries).\n",
    "\n",
    "#### 6. Memory & Context Handling (Optional in Agents)\n",
    "##### Memory allows persistence across multiple conversations or tasks.\n",
    "\n",
    "##### Stores past messages, summaries, preferences.\n",
    "\n",
    "##### Long context windows (e.g., 128K tokens) allow full-document understanding.\n",
    "\n",
    "#### 7. Response Delivery\n",
    "##### The final generated response is rendered back to the user.\n",
    "\n",
    "##### Optionally includes:\n",
    "\n",
    "###### a. Citations or references.\n",
    "\n",
    "###### b. Structured output (e.g., tables, graphs, JSON).\n",
    "\n",
    "###### c. Follow-up questions or clarification prompts.\n",
    "\n",
    "#### Under the Hood – Key Components\n",
    "##### Layer -> Description\n",
    "###### Transformer Architecture -> Deep learning backbone with self-attention and feed-forward networks.\n",
    "###### Pretraining -> Model trained on vast public data (code, books, papers, web).\n",
    "###### Fine-tuning -> Domain-specific training (e.g., finance, legal, customer support).\n",
    "###### RLHF (Reinforcement Learning from Human Feedback) -> Aligns model outputs with human preferences.\n",
    "###### Inference Layer -> Optimized backend to serve model fast (via GPUs, TPUs).\n",
    "###### Middleware/Agents -> Coordinates tools, memory, and task planning in agentic systems."
   ]
  },
  {
   "cell_type": "code",
   "execution_count": 1,
   "id": "58001ac8-0fa2-4d30-a4e6-186c742a202a",
   "metadata": {},
   "outputs": [
    {
     "ename": "SyntaxError",
     "evalue": "invalid character '↓' (U+2193) (466271512.py, line 3)",
     "output_type": "error",
     "traceback": [
      "\u001b[1;36m  Cell \u001b[1;32mIn[1], line 3\u001b[1;36m\u001b[0m\n\u001b[1;33m    ↓\u001b[0m\n\u001b[1;37m    ^\u001b[0m\n\u001b[1;31mSyntaxError\u001b[0m\u001b[1;31m:\u001b[0m invalid character '↓' (U+2193)\n"
     ]
    }
   ],
   "source": [
    "## Architecture of Gen AI\n",
    "[User Prompt]\n",
    "     ↓\n",
    "[Tokenizer]\n",
    "     ↓\n",
    "[Transformer Model]\n",
    "     ↓\n",
    "[Decoder → Generated Tokens]\n",
    "     ↓\n",
    "[Detokenizer → Natural Language Output]\n",
    "     ↓\n",
    "[Optional: Tools / RAG / Memory / API Calls]"
   ]
  },
  {
   "cell_type": "markdown",
   "id": "a33f9ace-f5e9-44df-bc4c-cfb5e3d34532",
   "metadata": {},
   "source": [
    "## Limitations of GenAI\n",
    "##### 1. Hallucinations of AI: \n",
    "###### AI tools can generate responses that appear correct but that contain errors or are out of context due to a lack of an understanding of the real world or limitations in the training data. It is crucial to review and verify the information obtained.\n",
    "\n",
    "##### 2. Data Quality: \n",
    "###### The results of generative AI depend on the quality of the training data. If the data contain errors or biases or are incomplete, trusting them can be risky. Google is working continuously to assess and mitigate these risks.\n",
    "\n",
    "##### 3. Confidentiality of Business Data: \n",
    "###### It is important to be prudent when using confidential business information in public tools. Read the terms and conditions and, if possible, use paid versions that guarantee confidentiality, such as Google Cloud, ensuring that you establish the necessary control measures."
   ]
  },
  {
   "cell_type": "code",
   "execution_count": null,
   "id": "32391a54-e657-47b0-a2ef-6174204eadb5",
   "metadata": {},
   "outputs": [],
   "source": []
  }
 ],
 "metadata": {
  "kernelspec": {
   "display_name": "Python 3 (ipykernel)",
   "language": "python",
   "name": "python3"
  },
  "language_info": {
   "codemirror_mode": {
    "name": "ipython",
    "version": 3
   },
   "file_extension": ".py",
   "mimetype": "text/x-python",
   "name": "python",
   "nbconvert_exporter": "python",
   "pygments_lexer": "ipython3",
   "version": "3.12.7"
  }
 },
 "nbformat": 4,
 "nbformat_minor": 5
}
