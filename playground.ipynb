{
 "cells": [
  {
   "cell_type": "code",
   "execution_count": null,
   "id": "7eaf92c3-e8a9-43d8-9769-4325359747b0",
   "metadata": {},
   "outputs": [],
   "source": [
    "pip install python-multipart"
   ]
  },
  {
   "cell_type": "code",
   "execution_count": null,
   "id": "285ff129-14ef-4cc3-8aac-8000c8d10230",
   "metadata": {},
   "outputs": [],
   "source": [
    "#imports\n",
    "import openai\n",
    "from phi.agent import Agent\n",
    "import phi.api\n",
    "from phi.model.groq import Groq\n",
    "from phi.model.openai import OpenAIChat\n",
    "from phi.tools.yfinance import YFinanceTools\n",
    "from phi.tools.duckduckgo import DuckDuckGo\n",
    "\n",
    "import os\n",
    "from dotenv import load_dotenv\n",
    "#openai.api_key=os.getenv(\"OPENAI_API_KEY\")\n",
    "\n",
    "import phi\n",
    "from phi.playground import Playground, serve_playground_app\n",
    "\n",
    "load_dotenv() #Load env vars from env file\n",
    "\n",
    "phi.api=os.getenv(\"PHI_API_KEY\") #Why do we need the PHI_API_KEY? Because we will create this as a custom chatbot in the phi data platform\n",
    "\n",
    "#This is a basic web search independent agent\n",
    "web_search_agent=Agent(\n",
    "    name=\"Web Search Agent\",\n",
    "    role=\"Search the web for the imformation\",\n",
    "    model=Groq(id=\"llama3-groq-70b-8192-tool-use-preview\"),\n",
    "    tools=[DuckDuckGo()], #Multiple tools can be passed here\n",
    "    instructions=[\"Always include sources\"],\n",
    "    show_tool_call=True,\n",
    "    markdown=True,\n",
    ")\n",
    "\n",
    "#This is a basic Financial Analyst independent Agent\n",
    "finance_agent=Agent(\n",
    "    name=\"Finance Analyst AI Agent\",\n",
    "    model=Groq(id=\"llama3-groq-70b-8192-tool-use-preview\"),\n",
    "    tools=[\n",
    "        YFinanceTools(stock_price=True, analyst_recommendations=True, stock_fundamentals=True, company_news=True),\n",
    "    ],\n",
    "    instructions=[\"Use tables to display the data\"],\n",
    "    show_tool_calls=True,\n",
    "    markdown=True,\n",
    ")\n",
    "\n",
    "app=Playground(agents=[finance_agent,web_search_agent]).get_app() #This app variable is used below as a parameter\n",
    "\n",
    "if __name__==\"__main__\":\n",
    "    serve_playground_app(\"playground:app\",reload=True) #Here in the parameter - playground is the file name and app is variable where program is started"
   ]
  },
  {
   "cell_type": "code",
   "execution_count": null,
   "id": "baae47ce-7c2c-4715-87d1-6583ca227898",
   "metadata": {},
   "outputs": [],
   "source": [
    "## Some Info :\n",
    "INFO:     Will watch for changes in these directories: ['C:\\\\Users\\\\darsh\\\\Desktop\\\\Academics\\\\Gen AI']\n",
    "INFO:     Uvicorn running on http://localhost:7777 (Press CTRL+C to quit)\n",
    "INFO:     Started reloader process [3172] using StatReload\n",
    "\n",
    "Above runs on http://localhost:7777 - If we simply open the link in browser, it will not work. \n",
    "So, we go to https://app.agno.com/playground\n",
    "Select the endpoint on the right - it will have green dot beside it - which means it is running\n"
   ]
  }
 ],
 "metadata": {
  "kernelspec": {
   "display_name": "Python 3 (ipykernel)",
   "language": "python",
   "name": "python3"
  },
  "language_info": {
   "codemirror_mode": {
    "name": "ipython",
    "version": 3
   },
   "file_extension": ".py",
   "mimetype": "text/x-python",
   "name": "python",
   "nbconvert_exporter": "python",
   "pygments_lexer": "ipython3",
   "version": "3.12.7"
  }
 },
 "nbformat": 4,
 "nbformat_minor": 5
}
